{
 "cells": [
  {
   "cell_type": "code",
   "execution_count": 4,
   "id": "7389a1ba-2036-4729-a36b-b7c2da77ec1f",
   "metadata": {},
   "outputs": [
    {
     "name": "stdout",
     "output_type": "stream",
     "text": [
      "Точность модели: 1.00\n",
      "Матрица ошибок:\n",
      "[[10  0  0]\n",
      " [ 0  9  0]\n",
      " [ 0  0 11]]\n"
     ]
    }
   ],
   "source": [
    "# Load the Iris dataset from scikit-learn.\n",
    "# Split the dataset into training and testing sets.\n",
    "# Train a logistic regression model on the training set.\n",
    "# Evaluate the model's performance on the test set using accuracy and a confusion matrix.\n",
    "# ------------ Nurtas Serikkanov ------------\n",
    "\n",
    "from sklearn.datasets import load_iris\n",
    "from sklearn.model_selection import train_test_split\n",
    "from sklearn.linear_model import LogisticRegression\n",
    "from sklearn.metrics import accuracy_score, confusion_matrix\n",
    "\n",
    "iris = load_iris()\n",
    "X = iris.data\n",
    "y = iris.target\n",
    "\n",
    "X1, X2, y1, y2 = train_test_split(X, y, test_size=0.2, random_state=42)\n",
    "\n",
    "l = LogisticRegression(max_iter=200)\n",
    "l.fit(X1, y1)\n",
    "\n",
    "y_pred = l.predict(X2) # Предсказание\n",
    "\n",
    "result = accuracy_score(y2, y_pred)\n",
    "print(f\"Точность модели: {result:.2f}\") # Оценка точности модели\n",
    "\n",
    "matrix = confusion_matrix(y2, y_pred) # Матрица ошибок\n",
    "print(\"Матрица ошибок:\")\n",
    "print(matrix)"
   ]
  },
  {
   "cell_type": "code",
   "execution_count": null,
   "id": "75ec65ca-84c5-4dd7-91be-80e331a5b3ab",
   "metadata": {},
   "outputs": [],
   "source": []
  }
 ],
 "metadata": {
  "kernelspec": {
   "display_name": "Python 3 (ipykernel)",
   "language": "python",
   "name": "python3"
  },
  "language_info": {
   "codemirror_mode": {
    "name": "ipython",
    "version": 3
   },
   "file_extension": ".py",
   "mimetype": "text/x-python",
   "name": "python",
   "nbconvert_exporter": "python",
   "pygments_lexer": "ipython3",
   "version": "3.12.4"
  }
 },
 "nbformat": 4,
 "nbformat_minor": 5
}
