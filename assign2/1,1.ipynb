{
 "cells": [
  {
   "cell_type": "code",
   "execution_count": 20,
   "id": "f2f0fd90-d1f7-4dfd-a448-1e7156620cb8",
   "metadata": {},
   "outputs": [
    {
     "name": "stdout",
     "output_type": "stream",
     "text": [
      "Выбранные признаки: Index(['petal length (cm)', 'petal width (cm)'], dtype='object')\n"
     ]
    }
   ],
   "source": [
    "# Load the Iris dataset from scikit-learn.\n",
    "# Split the dataset into features and target variable.\n",
    "# Use SelectKBest with the chi2 score function to select the top 2 features.\n",
    "# Print the selected feature names.\n",
    "# -------- Nurtas Serikkanov --------\n",
    "\n",
    "import pandas as pd\n",
    "from sklearn.datasets import load_iris\n",
    "from sklearn.feature_selection import SelectKBest, chi2\n",
    "\n",
    "iris = load_iris()\n",
    "X = iris.data\n",
    "y = iris.target\n",
    "\n",
    "df_X = pd.DataFrame(X, columns=iris.feature_names)\n",
    "\n",
    "s = SelectKBest(score_func=chi2, k=2)\n",
    "X_new = s.fit_transform(X, y)\n",
    "\n",
    "mask = s.get_support()\n",
    "\n",
    "selected_features = df_X.columns[mask]\n",
    "print(\"Выбранные признаки:\", selected_features)"
   ]
  },
  {
   "cell_type": "code",
   "execution_count": null,
   "id": "13bd00de-bab9-4eb3-b190-0f25707c0ee5",
   "metadata": {},
   "outputs": [],
   "source": [
    "# SelectKBest — это метод, который выбирает фиксированное количество лучших \n",
    "# признаков (в данном случае — 2) на основе указанной метрики \n",
    "# (здесь используется метрика chi2, которая подходит для работы с числовыми данными).\n",
    "\n",
    "# Iris dataset — это набор данных, который содержит 150 примеров трёх видов цветов ирисов. \n",
    "# У каждого примера есть 4 признака: длина и ширина чашелистика и лепестка.\n",
    "\n",
    "# chi2 (хи-квадрат) — это статистический тест, который используется для оценки значимости \n",
    "# признаков по их связи с целевой переменной."
   ]
  }
 ],
 "metadata": {
  "kernelspec": {
   "display_name": "Python 3 (ipykernel)",
   "language": "python",
   "name": "python3"
  },
  "language_info": {
   "codemirror_mode": {
    "name": "ipython",
    "version": 3
   },
   "file_extension": ".py",
   "mimetype": "text/x-python",
   "name": "python",
   "nbconvert_exporter": "python",
   "pygments_lexer": "ipython3",
   "version": "3.12.4"
  }
 },
 "nbformat": 4,
 "nbformat_minor": 5
}
