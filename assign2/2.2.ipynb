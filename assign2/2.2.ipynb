{
 "cells": [
  {
   "cell_type": "code",
   "execution_count": 11,
   "id": "90a68249-c3b3-473a-af9d-a3f630b7d91d",
   "metadata": {},
   "outputs": [
    {
     "name": "stdout",
     "output_type": "stream",
     "text": [
      "Точность модели: 0.95\n",
      "\n",
      "Матрица ошибок:\n",
      "[[37  6]\n",
      " [ 0 71]]\n"
     ]
    }
   ],
   "source": [
    "# Load the Breast Cancer dataset from scikit-learn.\n",
    "# Split the dataset into training and testing sets.\n",
    "# Train an SVM model on the training data.\n",
    "# Evaluate the model's performance on the test data using accuracy and a confusion matrix.\n",
    "# ---------- Nurtas Serikkanov ----------\n",
    "\n",
    "from sklearn.datasets import load_breast_cancer\n",
    "from sklearn.model_selection import train_test_split\n",
    "from sklearn.svm import SVC\n",
    "from sklearn.metrics import accuracy_score, confusion_matrix\n",
    "\n",
    "\n",
    "data = load_breast_cancer()\n",
    "X = data.data\n",
    "y = data.target\n",
    "\n",
    "X1, X2, y1, y2 = train_test_split(X, y, test_size=0.2, random_state=42)\n",
    "\n",
    "svm_model = SVC() # SVC() создает объект модели SVM.\n",
    "svm_model.fit(X1, y1) # fit() обучает модель на тренировочных данных.\n",
    "\n",
    "y_pred = svm_model.predict(X2)\n",
    "\n",
    "# Оценка точности\n",
    "accuracy = accuracy_score(y2, y_pred)\n",
    "print(f\"Точность модели: {accuracy:.2f}\")\n",
    "print()\n",
    "\n",
    "# Матрица ошибок\n",
    "conf_matrix = confusion_matrix(y2, y_pred)\n",
    "print(\"Матрица ошибок:\")\n",
    "print(conf_matrix)"
   ]
  },
  {
   "cell_type": "code",
   "execution_count": null,
   "id": "ae09e4dc-f7f4-422d-9c7b-bff6acb6d4f8",
   "metadata": {},
   "outputs": [],
   "source": []
  }
 ],
 "metadata": {
  "kernelspec": {
   "display_name": "Python 3 (ipykernel)",
   "language": "python",
   "name": "python3"
  },
  "language_info": {
   "codemirror_mode": {
    "name": "ipython",
    "version": 3
   },
   "file_extension": ".py",
   "mimetype": "text/x-python",
   "name": "python",
   "nbconvert_exporter": "python",
   "pygments_lexer": "ipython3",
   "version": "3.12.4"
  }
 },
 "nbformat": 4,
 "nbformat_minor": 5
}
