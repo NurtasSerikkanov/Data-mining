{
 "cells": [
  {
   "cell_type": "code",
   "execution_count": 3,
   "id": "d4da30fd-ef1f-4677-b09c-39790748ef73",
   "metadata": {},
   "outputs": [
    {
     "name": "stdout",
     "output_type": "stream",
     "text": [
      "(MSE): 0.56\n",
      "(R²): 0.58\n"
     ]
    }
   ],
   "source": [
    "# Load the Boston Housing dataset from scikit-learn.\n",
    "# Split the dataset into training and testing sets.\n",
    "# Train a linear regression model on the training set.\n",
    "# Evaluate the model's performance using mean squared error (MSE) and R-squared score.\n",
    "# ----------- Nurtas Serikkanov --------------\n",
    "\n",
    "from sklearn.datasets import fetch_california_housing\n",
    "from sklearn.model_selection import train_test_split\n",
    "from sklearn.linear_model import LinearRegression\n",
    "from sklearn.metrics import mean_squared_error, r2_score\n",
    "\n",
    "data = fetch_california_housing()\n",
    "X = data.data\n",
    "y = data.target\n",
    "\n",
    "X1, X2, y1, y2 = train_test_split(X, y, test_size=0.2, random_state=42)\n",
    "\n",
    "lr = LinearRegression()\n",
    "lr.fit(X1, y1)\n",
    "\n",
    "y_pred = lr.predict(X2)\n",
    "\n",
    "mse = mean_squared_error(y2, y_pred)\n",
    "print(f\"(MSE): {mse:.2f}\")\n",
    "\n",
    "r2 = r2_score(y2, y_pred)\n",
    "print(f\"(R²): {r2:.2f}\")"
   ]
  },
  {
   "cell_type": "code",
   "execution_count": null,
   "id": "d8595de9-0b91-4068-b948-d915beea493b",
   "metadata": {},
   "outputs": [],
   "source": []
  }
 ],
 "metadata": {
  "kernelspec": {
   "display_name": "Python 3 (ipykernel)",
   "language": "python",
   "name": "python3"
  },
  "language_info": {
   "codemirror_mode": {
    "name": "ipython",
    "version": 3
   },
   "file_extension": ".py",
   "mimetype": "text/x-python",
   "name": "python",
   "nbconvert_exporter": "python",
   "pygments_lexer": "ipython3",
   "version": "3.12.4"
  }
 },
 "nbformat": 4,
 "nbformat_minor": 5
}
