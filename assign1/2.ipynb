{
 "cells": [
  {
   "cell_type": "code",
   "execution_count": 9,
   "id": "2dd7210c-c757-4ed6-a69a-49a0bf654166",
   "metadata": {},
   "outputs": [
    {
     "name": "stdout",
     "output_type": "stream",
     "text": [
      "Date         1\n",
      "Open         0\n",
      "High         1\n",
      "Low          2\n",
      "Close        2\n",
      "Adj Close    0\n",
      "Volume       1\n",
      "dtype: int64\n"
     ]
    }
   ],
   "source": [
    "import pandas as pd\n",
    "df = pd.read_csv('Apple_price_to_clean.csv')\n",
    "\n",
    "print(df.isnull().sum()) #determining the amount of missing data\n",
    "df_cleaned = df.dropna() #Removing rows with missing values\n",
    "\n",
    "# fillna() method allows you to fill in missing values\n",
    "# df['Date'].fillna(df['Date'].mean(), inplace=True)  #column's mean value\n",
    "# df['Date'].fillna(df['Date'].median(), inplace=True) #column's median value\n"
   ]
  },
  {
   "cell_type": "code",
   "execution_count": 7,
   "id": "450c6587-1d80-4de8-9086-95efa6def7a6",
   "metadata": {},
   "outputs": [
    {
     "name": "stdout",
     "output_type": "stream",
     "text": [
      "         Date\n",
      "0  2022-01-01\n",
      "1        None\n",
      "2  2023-01-01\n",
      "3            \n",
      "4  2024-02-01\n"
     ]
    }
   ],
   "source": [
    "data = {'Date': ['2022-01-01', None, '2023-01-01', '', '2024-02-01']}\n",
    "df = pd.DataFrame(data)\n",
    "print(df)"
   ]
  },
  {
   "cell_type": "code",
   "execution_count": 25,
   "id": "bbf6baaa-cfea-43b9-b20d-893584e83b55",
   "metadata": {},
   "outputs": [
    {
     "name": "stdout",
     "output_type": "stream",
     "text": [
      "        Date\n",
      "0 2022-01-01\n",
      "1 2023-01-01\n",
      "2 2023-01-01\n",
      "3 2024-01-01\n",
      "4 2024-02-01\n"
     ]
    }
   ],
   "source": [
    "df['Date'] = pd.to_datetime(df['Date'], errors='coerce')\n",
    "df['Date'] = df['Date'].fillna(pd.Timestamp('2024-01-01'))  #column's specific meaning value\n",
    "print(df)"
   ]
  },
  {
   "cell_type": "code",
   "execution_count": 31,
   "id": "f9835ad0-76cf-4c6e-9761-77cde30a40fa",
   "metadata": {},
   "outputs": [
    {
     "name": "stdout",
     "output_type": "stream",
     "text": [
      "        Date\n",
      "0 2022-01-01\n",
      "1 2023-01-01\n",
      "2 2023-01-01\n",
      "3 2024-01-01\n",
      "4 2024-02-01\n"
     ]
    }
   ],
   "source": [
    "df['Date'].ffill(inplace=True) #to fill the gaps with the previous value\n",
    "print(df)"
   ]
  },
  {
   "cell_type": "code",
   "execution_count": 29,
   "id": "cb3081cd-c407-4fd4-b3cb-3acb71e1dfdc",
   "metadata": {},
   "outputs": [
    {
     "name": "stdout",
     "output_type": "stream",
     "text": [
      "        Date\n",
      "0 2022-01-01\n",
      "1 2023-01-01\n",
      "2 2023-01-01\n",
      "3 2024-01-01\n",
      "4 2024-02-01\n"
     ]
    }
   ],
   "source": [
    "df['Date'].bfill(inplace=True) #to fill the gaps with the next value\n",
    "print(df)"
   ]
  },
  {
   "cell_type": "code",
   "execution_count": null,
   "id": "1997e7e7-1e50-4f4b-87be-11da3722b15f",
   "metadata": {},
   "outputs": [],
   "source": []
  }
 ],
 "metadata": {
  "kernelspec": {
   "display_name": "Python 3 (ipykernel)",
   "language": "python",
   "name": "python3"
  },
  "language_info": {
   "codemirror_mode": {
    "name": "ipython",
    "version": 3
   },
   "file_extension": ".py",
   "mimetype": "text/x-python",
   "name": "python",
   "nbconvert_exporter": "python",
   "pygments_lexer": "ipython3",
   "version": "3.12.4"
  }
 },
 "nbformat": 4,
 "nbformat_minor": 5
}
