{
 "cells": [
  {
   "cell_type": "code",
   "execution_count": 1,
   "id": "e8ee2af7-dc2e-451a-bc47-4f9e14cb81b0",
   "metadata": {},
   "outputs": [
    {
     "name": "stdout",
     "output_type": "stream",
     "text": [
      "   column\n",
      "0    0.00\n",
      "1    0.25\n",
      "2    0.50\n",
      "3    0.75\n",
      "4    1.00\n"
     ]
    }
   ],
   "source": [
    "from sklearn.preprocessing import MinMaxScaler\n",
    "import pandas as pd\n",
    "\n",
    "df = pd.DataFrame({\n",
    "    'column': [1, 2, 3, 4, 5]\n",
    "})\n",
    "\n",
    "scaler = MinMaxScaler()\n",
    "df[['column']] = scaler.fit_transform(df[['column']])\n",
    "print(df)"
   ]
  },
  {
   "cell_type": "code",
   "execution_count": 5,
   "id": "392e3824-054b-47f3-8ae0-a5d80f344c13",
   "metadata": {},
   "outputs": [
    {
     "name": "stdout",
     "output_type": "stream",
     "text": [
      "   Value  Category_A  Category_B  Category_C  Category_D\n",
      "0     10        True       False       False       False\n",
      "1     20       False        True       False       False\n",
      "2     10       False       False       False        True\n",
      "3     30       False       False        True       False\n",
      "4     20        True       False       False       False\n"
     ]
    }
   ],
   "source": [
    "df = pd.DataFrame({\n",
    "    'Category': ['A', 'B', 'D', 'C', 'A'],\n",
    "    'Value': [10, 20, 10, 30, 20]\n",
    "})\n",
    "\n",
    "df_dummies = pd.get_dummies(df, columns=['Category']) #converts the 'Category' column into multiple columns of 0 and 1, where each column represents a category.\n",
    "print(df_dummies)"
   ]
  },
  {
   "cell_type": "code",
   "execution_count": 11,
   "id": "f3fb1bdb-cbf1-467a-87ac-c144e337434a",
   "metadata": {},
   "outputs": [
    {
     "name": "stdout",
     "output_type": "stream",
     "text": [
      "   Value  Category_A  Category_B  Category_C  Category_D\n",
      "0     10         1.0         0.0         0.0         0.0\n",
      "1     20         0.0         1.0         0.0         0.0\n",
      "2     10         0.0         0.0         0.0         1.0\n",
      "3     30         0.0         0.0         1.0         0.0\n",
      "4     20         1.0         0.0         0.0         0.0\n"
     ]
    }
   ],
   "source": [
    "from sklearn.preprocessing import OneHotEncoder\n",
    "\n",
    "encoder = OneHotEncoder(sparse_output=False)\n",
    "encoded = encoder.fit_transform(df[['Category']])\n",
    "\n",
    "df_encoded = pd.DataFrame(encoded, columns=encoder.get_feature_names_out(['Category']))\n",
    "\n",
    "df_final = pd.concat([df.drop('Category', axis=1), df_encoded], axis=1)\n",
    "print(df_final)"
   ]
  },
  {
   "cell_type": "code",
   "execution_count": 14,
   "id": "ebaa8f85-8d8d-49f2-99b4-812df764a70c",
   "metadata": {},
   "outputs": [
    {
     "name": "stdout",
     "output_type": "stream",
     "text": [
      "   Value Value_Grouped\n",
      "0      5           Low\n",
      "1     15           Low\n",
      "2     25           Low\n",
      "3     35        Medium\n",
      "4     45        Medium\n",
      "5     55        Medium\n",
      "6     65          High\n",
      "7     75          High\n",
      "8     85          High\n",
      "9     95          High\n"
     ]
    }
   ],
   "source": [
    "df = pd.DataFrame({\n",
    "    'Value': [5, 15, 25, 35, 45, 55, 65, 75, 85, 95]\n",
    "})\n",
    "bins = [0, 30, 60, 100]\n",
    "\n",
    "labels = ['Low', 'Medium', 'High']\n",
    "\n",
    "df['Value_Grouped'] = pd.cut(df['Value'], bins=bins, labels=labels)\n",
    "print(df)"
   ]
  }
 ],
 "metadata": {
  "kernelspec": {
   "display_name": "Python 3 (ipykernel)",
   "language": "python",
   "name": "python3"
  },
  "language_info": {
   "codemirror_mode": {
    "name": "ipython",
    "version": 3
   },
   "file_extension": ".py",
   "mimetype": "text/x-python",
   "name": "python",
   "nbconvert_exporter": "python",
   "pygments_lexer": "ipython3",
   "version": "3.12.4"
  }
 },
 "nbformat": 4,
 "nbformat_minor": 5
}
