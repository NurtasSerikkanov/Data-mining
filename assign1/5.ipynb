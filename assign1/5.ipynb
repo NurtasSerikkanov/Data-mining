{
 "cells": [
  {
   "cell_type": "code",
   "execution_count": 16,
   "id": "30f42db7-6876-4d05-abd6-68b86e89bf16",
   "metadata": {},
   "outputs": [
    {
     "name": "stdout",
     "output_type": "stream",
     "text": [
      "0    False\n",
      "1    False\n",
      "2     True\n",
      "3    False\n",
      "4     True\n",
      "dtype: bool\n",
      "      Name  Age      City\n",
      "0   Nurtas   28  New York\n",
      "1  Ayazhan   22    London\n",
      "3     Madi   35     Paris\n"
     ]
    }
   ],
   "source": [
    "import pandas as pd\n",
    "\n",
    "data = {\n",
    "    'Name': ['Nurtas', 'Ayazhan', 'Nurtas', 'Madi', 'Ayazhan'],\n",
    "    'Age': [28, 22, 28, 35, 22],\n",
    "    'City': ['New York', 'London', 'New York', 'Paris', 'London']\n",
    "}\n",
    "\n",
    "df = pd.DataFrame(data)\n",
    "\n",
    "# print(df.info())\n",
    "print(df.duplicated())\n",
    "df_cleaned = df.drop_duplicates()\n",
    "print(df_cleaned)"
   ]
  },
  {
   "cell_type": "code",
   "execution_count": 18,
   "id": "899a974f-2364-4bb3-8d45-ea92f68b9a24",
   "metadata": {},
   "outputs": [
    {
     "name": "stdout",
     "output_type": "stream",
     "text": [
      "      Name  Age\n",
      "0   Nurtas   28\n",
      "1  Ayazhan   22\n",
      "2     Madi   35\n",
      "4      Ers   23\n"
     ]
    }
   ],
   "source": [
    "data = {\n",
    "    'Name': ['Nurtas', 'Ayazhan', 'Madi', 'Nargiza', 'Ers'],\n",
    "    'Age': [28, 22, 35, 120, 23],\n",
    "}\n",
    "\n",
    "df = pd.DataFrame(data)\n",
    "\n",
    "Q1 = df['Age'].quantile(0.25)\n",
    "Q3 = df['Age'].quantile(0.75)\n",
    "IQR = Q3 - Q1\n",
    "\n",
    "lower_bound = Q1 - 1.5 * IQR\n",
    "upper_bound = Q3 + 1.5 * IQR\n",
    "\n",
    "df_no_outliers = df[(df['Age'] >= lower_bound) & (df['Age'] <= upper_bound)]\n",
    "\n",
    "print(df_no_outliers)"
   ]
  },
  {
   "cell_type": "code",
   "execution_count": 20,
   "id": "5d9bf086-137f-4e41-b5cf-d7ac1e95ac2e",
   "metadata": {},
   "outputs": [
    {
     "name": "stdout",
     "output_type": "stream",
     "text": [
      "   Name      City\n",
      "0  John  New York\n",
      "1  John  New York\n",
      "2  Anna    London\n",
      "3  Anna    London\n",
      "4  Mike     Paris\n"
     ]
    }
   ],
   "source": [
    "data = {\n",
    "    'Name': ['John', 'john', 'Anna', 'ANNA', 'Mike'],\n",
    "    'City': ['New York', 'new york', 'London', 'london', 'PARIS']\n",
    "}\n",
    "\n",
    "df = pd.DataFrame(data)\n",
    "\n",
    "df['Name'] = df['Name'].str.lower().str.title()\n",
    "df['City'] = df['City'].str.title()\n",
    "\n",
    "print(df)"
   ]
  }
 ],
 "metadata": {
  "kernelspec": {
   "display_name": "Python 3 (ipykernel)",
   "language": "python",
   "name": "python3"
  },
  "language_info": {
   "codemirror_mode": {
    "name": "ipython",
    "version": 3
   },
   "file_extension": ".py",
   "mimetype": "text/x-python",
   "name": "python",
   "nbconvert_exporter": "python",
   "pygments_lexer": "ipython3",
   "version": "3.12.4"
  }
 },
 "nbformat": 4,
 "nbformat_minor": 5
}
